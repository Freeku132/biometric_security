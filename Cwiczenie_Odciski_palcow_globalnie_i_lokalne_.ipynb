{
 "nbformat": 4,
 "nbformat_minor": 0,
 "metadata": {
  "colab": {
   "provenance": []
  },
  "kernelspec": {
   "name": "python3",
   "language": "python",
   "display_name": "Python 3 (ipykernel)"
  },
  "language_info": {
   "name": "python"
  },
  "accelerator": "TPU"
 },
 "cells": [
  {
   "cell_type": "code",
   "source": [
    "import fingerprint_feature_extractor\n",
    "import fingerprint_enhancer\n",
    "import cv2\n",
    "import math\n",
    "import heapq\n",
    "\n",
    "from Minutia.Minutia import Minutia\n",
    "from Minutia.fingerprint_feature_extractor import FingerprintFeatureExtractor\n",
    "\n",
    "!pip install fingerprint_feature_extractor\n",
    "!pip install fingerprint_enhancer\n"
   ],
   "metadata": {
    "id": "CV2fNyk1vkSP",
    "ExecuteTime": {
     "end_time": "2024-01-21T19:57:45.109994500Z",
     "start_time": "2024-01-21T19:57:43.278138500Z"
    }
   },
   "execution_count": 8,
   "outputs": [
    {
     "name": "stdout",
     "output_type": "stream",
     "text": [
      "Defaulting to user installation because normal site-packages is not writeable\r\n",
      "Requirement already satisfied: fingerprint_feature_extractor in /home/freeku/.local/lib/python3.10/site-packages (0.0.10)\r\n",
      "Requirement already satisfied: opencv-python in /home/freeku/.local/lib/python3.10/site-packages (from fingerprint_feature_extractor) (4.9.0.80)\r\n",
      "Requirement already satisfied: scipy in /home/freeku/.local/lib/python3.10/site-packages (from fingerprint_feature_extractor) (1.12.0)\r\n",
      "Requirement already satisfied: numpy in /home/freeku/.local/lib/python3.10/site-packages (from fingerprint_feature_extractor) (1.26.3)\r\n",
      "Requirement already satisfied: scikit-image in /home/freeku/.local/lib/python3.10/site-packages (from fingerprint_feature_extractor) (0.22.0)\r\n",
      "Requirement already satisfied: pillow>=9.0.1 in /home/freeku/.local/lib/python3.10/site-packages (from scikit-image->fingerprint_feature_extractor) (10.2.0)\r\n",
      "Requirement already satisfied: networkx>=2.8 in /home/freeku/.local/lib/python3.10/site-packages (from scikit-image->fingerprint_feature_extractor) (3.2.1)\r\n",
      "Requirement already satisfied: tifffile>=2022.8.12 in /home/freeku/.local/lib/python3.10/site-packages (from scikit-image->fingerprint_feature_extractor) (2023.12.9)\r\n",
      "Requirement already satisfied: imageio>=2.27 in /home/freeku/.local/lib/python3.10/site-packages (from scikit-image->fingerprint_feature_extractor) (2.33.1)\r\n",
      "Requirement already satisfied: packaging>=21 in /usr/lib/python3/dist-packages (from scikit-image->fingerprint_feature_extractor) (21.3)\r\n",
      "Requirement already satisfied: lazy_loader>=0.3 in /home/freeku/.local/lib/python3.10/site-packages (from scikit-image->fingerprint_feature_extractor) (0.3)\r\n",
      "Defaulting to user installation because normal site-packages is not writeable\r\n",
      "Requirement already satisfied: fingerprint_enhancer in /home/freeku/.local/lib/python3.10/site-packages (0.0.13)\r\n",
      "Requirement already satisfied: scipy in /home/freeku/.local/lib/python3.10/site-packages (from fingerprint_enhancer) (1.12.0)\r\n",
      "Requirement already satisfied: numpy in /home/freeku/.local/lib/python3.10/site-packages (from fingerprint_enhancer) (1.26.3)\r\n",
      "Requirement already satisfied: opencv-python in /home/freeku/.local/lib/python3.10/site-packages (from fingerprint_enhancer) (4.9.0.80)\r\n"
     ]
    }
   ]
  },
  {
   "cell_type": "code",
   "source": [
    "# def extract_minutiae_features(img, spuriousMinutiaeThresh=20, invertImage=False, showResult=False, saveResult=False):\n",
    "#     feature_extractor = FingerprintFeatureExtractor()\n",
    "#     feature_extractor.setSpuriousMinutiaeThresh(spuriousMinutiaeThresh)\n",
    "#     if (invertImage):\n",
    "#         img = 255 - img;\n",
    "# \n",
    "#     FeaturesTerm, FeaturesBif = feature_extractor.extractMinutiaeFeatures(img)\n",
    "# \n",
    "#     if (saveResult):\n",
    "#         feature_extractor.saveResult(FeaturesTerm, FeaturesBif)\n",
    "# \n",
    "#     if(showResult):\n",
    "#         feature_extractor.showResults(FeaturesTerm, FeaturesBif)\n",
    "# \n",
    "#     return(FeaturesTerm, FeaturesBif)"
   ],
   "metadata": {
    "id": "0-HylBajpXHw",
    "ExecuteTime": {
     "end_time": "2024-01-21T20:01:58.550248200Z",
     "start_time": "2024-01-21T20:01:58.530246800Z"
    }
   },
   "execution_count": 12,
   "outputs": []
  },
  {
   "cell_type": "markdown",
   "source": [
    "# Local"
   ],
   "metadata": {
    "id": "6ogoS1cJRv3f"
   }
  },
  {
   "cell_type": "code",
   "outputs": [],
   "source": [
    "# equation 10\n",
    "def ComputeGlobalFeatureVectors(minutiaeList, referenceMinutiae):\n",
    "    for index, minutia in enumerate(minutiaeList):\n",
    "        tempFeatureVector = {}\n",
    "        tempFeatureVector[\"r_kb\"] = euclideanDistance(referenceMinutiae.locX, referenceMinutiae.locY, \\\n",
    "            minutia.locX, minutia.locY)\n",
    "        tempFeatureVector[\"theta_kb\"] = radialAngle(minutia.locX, minutia.locY, referenceMinutiae.orientation, \\\n",
    "            referenceMinutiae.locX, referenceMinutiae.locY)\n",
    "        tempFeatureVector[\"phi_kb\"] = minutiaDirection(minutia.orientation, referenceMinutiae.orientation)\n",
    "\n",
    "        minutiaeList[index].globalFeatureVector = tempFeatureVector"
   ],
   "metadata": {
    "collapsed": false
   }
  },
  {
   "cell_type": "code",
   "outputs": [],
   "source": [
    "# equation 6\n",
    "def ComputeFeatureVectors(minutiaeList):\n",
    "    for index, minutia in enumerate(minutiaeList):\n",
    "        tempFeatureVector = {}\n",
    "        # Compute euclidean distance for nearest neighbor (neighbor-i) and second nearest neighbor (neighbor-j)\n",
    "        tempFeatureVector[\"d_ki\"] = euclideanDistance(minutia.locX, minutia.locY,\n",
    "            minutiaeList[minutia.closestNeighbor].locX, minutiaeList[minutia.closestNeighbor].locY)\n",
    "        tempFeatureVector[\"d_kj\"] = euclideanDistance(minutia.locX, minutia.locY,\n",
    "            minutiaeList[minutia.secondClosestNeighbor].locX, minutiaeList[minutia.secondClosestNeighbor].locY)\n",
    "        # Compute relative radial angle for nearest neighbor (neighbor-i) and second nearest neighbor (neighbor-j)\n",
    "        tempFeatureVector[\"theta_ki\"] = radialAngle(minutia.locX, minutia.locY, minutia.orientation,\n",
    "            minutiaeList[minutia.closestNeighbor].locX, minutiaeList[minutia.closestNeighbor].locY)\n",
    "        tempFeatureVector[\"theta_kj\"] = radialAngle(minutia.locX, minutia.locY, minutia.orientation,\n",
    "            minutiaeList[minutia.secondClosestNeighbor].locX, minutiaeList[minutia.secondClosestNeighbor].locY)\n",
    "        # Compute relative direction for nearest neighbor (neighbor-i) and second nearest neighbor (neighbor-j)\n",
    "        tempFeatureVector[\"phi_ki\"] = minutiaDirection(minutia.orientation, minutiaeList[minutia.closestNeighbor].orientation)\n",
    "        tempFeatureVector[\"phi_kj\"] = minutiaDirection(minutia.orientation, minutiaeList[minutia.secondClosestNeighbor].orientation)\n",
    "        # Determine the minutia type for nearest neighbor (neighbor-i) and second nearest neighbor (neighbor-j)\n",
    "        tempFeatureVector[\"t_k\"] = minutia.minutiaType\n",
    "        tempFeatureVector[\"t_i\"] = minutiaeList[minutia.closestNeighbor].minutiaType\n",
    "        tempFeatureVector[\"t_j\"] = minutiaeList[minutia.secondClosestNeighbor].minutiaType\n",
    "\n",
    "        minutiaeList[index].featureVector = tempFeatureVector"
   ],
   "metadata": {
    "collapsed": false
   }
  },
  {
   "cell_type": "code",
   "outputs": [],
   "source": [
    "# Find the TWO nearest minutia neighbors for each given minutia\n",
    "def findMinutiaNeighbors(minutiaeList):\n",
    "    # needleMinutia is the minutia for which we're searching its closest neighbors\n",
    "    # needleIndex is its index in the minutiaeList\n",
    "    for needleIndex, needleMinutia in enumerate(minutiaeList):\n",
    "        # here we go over all the minutia in the minutiaeList and we calculate the euclidean\n",
    "        # distance between it and our needle minutia and store the results in a dictionary\n",
    "        minutiaIndexAndDistance = {}\n",
    "        for index, minutia in enumerate(minutiaeList):\n",
    "            distance = euclideanDistance(minutia.locX, minutia.locY, needleMinutia.locX, needleMinutia.locY)\n",
    "            # if the euclidean distance is equal to 0, that means that the needleMinutia and minutia are\n",
    "            # the same object. Therefore we don't add its distance to the list\n",
    "            if distance != 0:\n",
    "                minutiaIndexAndDistance[index] = distance\n",
    "\n",
    "        # now we take the two closest neighbors to our needleMinutia based on the values that\n",
    "        # are stored in our minutiaIndexAndDistance dictionary\n",
    "        twoClosestNeighbors = heapq.nsmallest(2, minutiaIndexAndDistance.items(), key=lambda x: x[1])\n",
    "        minutiaeList[needleIndex].closestNeighbor = twoClosestNeighbors[0][0]\n",
    "        minutiaeList[needleIndex].secondClosestNeighbor = twoClosestNeighbors[1][0]"
   ],
   "metadata": {
    "collapsed": false
   }
  },
  {
   "cell_type": "code",
   "outputs": [],
   "source": [
    "# Calculate the difference between two angles in radians\n",
    "def angleDifference(t1, t2):\n",
    "    if t1 - t2 > -math.pi and t1-t2 <= math.pi:\n",
    "        return t1-t2\n",
    "    elif t1 - t2 <= -math.pi:\n",
    "        return 2 * math.pi + t1 - t2\n",
    "    else:\n",
    "        return 2 * math.pi - t1 + t2"
   ],
   "metadata": {
    "collapsed": false
   }
  },
  {
   "cell_type": "code",
   "outputs": [],
   "source": [
    "# equation 9\n",
    "# find a pair of minutiae with the highest similarity\n",
    "def findBestMatch(inputMinutiaeList, templateMinutiaeList):\n",
    "    bestMatch = {}\n",
    "    maxSimilarity = -1\n",
    "\n",
    "    for inputMinutia in inputMinutiaeList:\n",
    "        for templateMinutia in templateMinutiaeList:\n",
    "            similarity = compareLocalStructures(inputMinutia.featureVector, templateMinutia.featureVector)\n",
    "            if (similarity > maxSimilarity):\n",
    "                bestMatch[\"inputMinutia\"] = inputMinutia\n",
    "                bestMatch[\"templateMinutia\"] = templateMinutia\n",
    "                bestMatch[\"similarity\"] = similarity\n",
    "                maxSimilarity = similarity\n",
    "    return bestMatch"
   ],
   "metadata": {
    "collapsed": false
   }
  },
  {
   "cell_type": "code",
   "outputs": [],
   "source": [
    "# equation 3\n",
    "# Calculate the Euclidean distance between point1 (x1, y1) and point2 (x2, y2)\n",
    "def euclideanDistance(x1, y1, x2, y2):\n",
    "    return math.sqrt((x2 - x1)**2 + (y2 - y1)**2)"
   ],
   "metadata": {
    "collapsed": false
   }
  },
  {
   "cell_type": "code",
   "outputs": [],
   "source": [
    "# equation 4\n",
    "# calculate the relative radial angle\n",
    "def radialAngle(x1, y1, orientation1 ,x2, y2):\n",
    "    if abs(x1 - x2) != 0:\n",
    "        return angleDifference(math.atan((y1 - y2)/(x1 - x2)), orientation1)\n",
    "    else:\n",
    "        if (y1 - y2 >= 0):\n",
    "            return angleDifference(math.pi/2, orientation1)\n",
    "        else:\n",
    "            return angleDifference(-math.pi/2, orientation1)"
   ],
   "metadata": {
    "collapsed": false
   }
  },
  {
   "cell_type": "code",
   "outputs": [],
   "source": [
    "# equation 5\n",
    "# calculate the relative direction\n",
    "def minutiaDirection(orientation1, orientation2):\n",
    "    return angleDifference(orientation1, orientation2)"
   ],
   "metadata": {
    "collapsed": false
   }
  },
  {
   "cell_type": "code",
   "outputs": [],
   "source": [
    "def computeVectorMagnitude(vector):\n",
    "    sum = 0\n",
    "    for key, value in vector.items():\n",
    "        sum += value**2\n",
    "    return math.sqrt(sum)"
   ],
   "metadata": {
    "collapsed": false
   }
  },
  {
   "cell_type": "code",
   "outputs": [],
   "source": [
    "# equation 7\n",
    "# compares a minutiae pair from the inputImage and templateImage. A value of 1 indicates a full match and a value of 0 indicates no match\n",
    "# porównuje parę minucji z inputImage i templateImage. Wartość 1 oznacza pełne dopasowanie, a wartość 0 oznacza brak dopasowania\n",
    "def compareLocalStructures(inputFeatureVector, templateFeatureVector):\n",
    "    weights = {\"d_ki\":1, \"d_kj\":1, \"theta_ki\":0.3*180/math.pi, \"theta_kj\":0.3*180/math.pi, \\\n",
    "        \"phi_ki\":0.3*180/math.pi, \"phi_kj\":0.3*180/math.pi, \"t_k\":3, \"t_i\": 3, \"t_j\":3}\n",
    "    m = len(weights)\n",
    "    bl = 6 * m\n",
    "\n",
    "    vector = {}\n",
    "    features = [\"d_ki\", \"d_kj\", \"t_k\", \"t_i\", \"t_j\"]\n",
    "    for feature in features:\n",
    "        vector[feature] = (inputFeatureVector[feature] - templateFeatureVector[feature]) * weights[feature]\n",
    "    angles = [\"theta_ki\", \"theta_kj\", \"phi_ki\", \"phi_kj\"]\n",
    "    for angle in angles:\n",
    "        vector[angle] = angleDifference(inputFeatureVector[angle], templateFeatureVector[angle]) * weights[angle]\n",
    "    vectorMagnitude = computeVectorMagnitude(vector)\n",
    "    if bl > vectorMagnitude:\n",
    "        return (bl - vectorMagnitude) / bl\n",
    "    else:\n",
    "        return 0"
   ],
   "metadata": {
    "collapsed": false
   }
  },
  {
   "cell_type": "code",
   "execution_count": 13,
   "metadata": {
    "id": "Cu2s3B6ApCSj",
    "ExecuteTime": {
     "end_time": "2024-01-21T20:01:59.645834Z",
     "start_time": "2024-01-21T20:01:59.591365700Z"
    }
   },
   "outputs": [],
   "source": [
    "def local_m(base, compare):\n",
    "  # Load the fingerprint images\n",
    "  inputImg = cv2.imread(f\"./fingerprints/{compare}.tif\", 0)\n",
    "  templateImg = cv2.imread(f\"./fingerprints/{base}.tif\", 0)\n",
    "  #inputImg = cv2.imread(\"./fingerprints/1.tif\", 0)\n",
    "  #templateImg = cv2.imread(\"./fingerprints/2.tif\", 0)\n",
    "\n",
    "\n",
    "  # Enhance the images (may throw an exception for low dpi images)\n",
    "  # Popraw obrazy (może zgłosić wyjątek dla obrazów o niskiej rozdzielczości)\n",
    "  enInputImg = fingerprint_enhancer.enhance_Fingerprint(inputImg)\n",
    "  enTemplateImg = fingerprint_enhancer.enhance_Fingerprint(templateImg)\n",
    "\n",
    "  # Extract the features from the fingerprint image\n",
    "  # Wyodrębnij funkcje z obrazu odcisku palca\n",
    "  inputFeaturesTerminations, inputFeaturesBifurcations = fingerprint_feature_extractor.extract_minutiae_features(enInputImg, spuriousMinutiaeThresh=20, invertImage=False, showResult=False, saveResult=True)\n",
    "  inputRes = cv2.imread(\"./result.png\", cv2.IMREAD_COLOR)\n",
    "  templateFeaturesTerminations, templateFeaturesBifurcations = fingerprint_feature_extractor.extract_minutiae_features(enTemplateImg, spuriousMinutiaeThresh=20, invertImage=False, showResult=False, saveResult=True)\n",
    "  templateRes = cv2.imread(\"./result.png\", cv2.IMREAD_COLOR)\n",
    "\n",
    "  # Create a list of minutiae features (x location, y location, orientation in degrees, type)\n",
    "  # Utwórz listę minucji (lokalizacja x, lokalizacja y, orientacja w stopniach, typ)\n",
    "  inputMinutiaeList = []\n",
    "  templateMinutiaeList = []\n",
    "  for term in inputFeaturesTerminations:\n",
    "      inputMinutiaeList.append(Minutia(term.locX, term.locY, math.radians(term.Orientation[0]), 0))\n",
    "  for bif in inputFeaturesBifurcations:\n",
    "      inputMinutiaeList.append(Minutia(bif.locX, bif.locY, math.radians(bif.Orientation[0]), 1))\n",
    "\n",
    "  for term in templateFeaturesTerminations:\n",
    "      templateMinutiaeList.append(Minutia(term.locX, term.locY, math.radians(term.Orientation[0]), 0))\n",
    "  for bif in templateFeaturesBifurcations:\n",
    "      templateMinutiaeList.append(Minutia(bif.locX, bif.locY, math.radians(bif.Orientation[0]), 1))\n",
    "\n",
    "  #Znajdź dwóch najbliższych sąsiadów dla każdej minucji\n",
    "  # Find two nearest neighbors for each minutia\n",
    "  findMinutiaNeighbors(inputMinutiaeList)\n",
    "  findMinutiaNeighbors(templateMinutiaeList)\n",
    "\n",
    "  # Oblicz wektor cech dla każdej minucji\n",
    "  ComputeFeatureVectors(inputMinutiaeList)\n",
    "  ComputeFeatureVectors(templateMinutiaeList)\n",
    "\n",
    "  i = 0\n",
    "  sum = 0\n",
    "  am = min(len(inputMinutiaeList), len(templateMinutiaeList))-3\n",
    "  while i < am:\n",
    "      bestMatch = findBestMatch(inputMinutiaeList, templateMinutiaeList)\n",
    "      # print(bestMatch[\"inputMinutia\"])\n",
    "      # print(bestMatch[\"templateMinutia\"])\n",
    "      inputMinutiaeList.remove(bestMatch['inputMinutia'])\n",
    "      templateMinutiaeList.remove(bestMatch['templateMinutia'])\n",
    "      sum += bestMatch['similarity']\n",
    "      i += 1\n",
    "      # Find two nearest neighbors for each minutia\n",
    "      findMinutiaNeighbors(inputMinutiaeList)\n",
    "      findMinutiaNeighbors(templateMinutiaeList)\n",
    "\n",
    "      # Compute the feature vector for each minutia\n",
    "      ComputeFeatureVectors(inputMinutiaeList)\n",
    "      ComputeFeatureVectors(templateMinutiaeList)\n",
    "\n",
    "  # print(\"Liczba dopasowań\", am)\n",
    "  return str(sum/am)\n",
    "  # cv2_imshow(inputImg)\n",
    "  # cv2_imshow(inputRes)\n",
    "  # cv2_imshow(templateImg)\n",
    "  # cv2_imshow(templateRes)"
   ]
  },
  {
   "cell_type": "markdown",
   "source": [
    "# Global"
   ],
   "metadata": {
    "id": "gJlHVF2dIMmU"
   }
  },
  {
   "cell_type": "markdown",
   "source": [
    "Dopasowywanie odcisków palców na podstawie\n",
    "struktur lokalnych i globalnych minucji"
   ],
   "metadata": {
    "id": "1kIutbMOpiEw"
   }
  },
  {
   "cell_type": "code",
   "source": [
    "\n",
    "# equation 9, but for one list and one minutia\n",
    "def findBestMatchOne(inputMinutiaeList, templateMinutia):\n",
    "    bestMatch = -1\n",
    "    maxSimilarity = -1\n",
    "    result = 0\n",
    "\n",
    "    for inputMinutia in inputMinutiaeList:\n",
    "        bestMatch = bestMatch +1\n",
    "        similarity = compareLocalStructures(inputMinutia.featureVector, templateMinutia.featureVector)\n",
    "        if (similarity > maxSimilarity):\n",
    "            maxSimilarity = similarity\n",
    "            result = bestMatch\n",
    "    return result\n",
    "\n",
    "# equation 11\n",
    "def calculateMatchingCertainty(inputMinutia, templateMinutia):\n",
    "    boundingBox = {\"r\": 64, \"theta\": math.pi/6, \"phi\": math.pi/6}\n",
    "    boundingBoxMagnitude = computeVectorMagnitude(boundingBox)\n",
    "\n",
    "    inputFeatureVector = inputMinutia.featureVector\n",
    "    inputGlobalFeatureVector = inputMinutia.globalFeatureVector\n",
    "    templateFeatureVector = templateMinutia.featureVector\n",
    "    templateGlobalFeatureVector = templateMinutia.globalFeatureVector\n",
    "\n",
    "    globalFeatureVector = {}\n",
    "    globalFeatureVector[\"r_kb\"] = inputGlobalFeatureVector[\"r_kb\"] - templateGlobalFeatureVector[\"r_kb\"]\n",
    "    globalFeatureVector[\"theta_kb\"] = angleDifference(inputGlobalFeatureVector[\"theta_kb\"],templateGlobalFeatureVector[\"theta_kb\"])\n",
    "    globalFeatureVector[\"phi_kb\"]  = angleDifference(inputGlobalFeatureVector[\"phi_kb\"],templateGlobalFeatureVector[\"phi_kb\"])\n",
    "    globalFeatureVectorMagnitude = computeVectorMagnitude(globalFeatureVector)\n",
    "\n",
    "    if boundingBoxMagnitude > globalFeatureVectorMagnitude:\n",
    "        return 0.5 + 0.5 * compareLocalStructures(inputFeatureVector, templateFeatureVector)\n",
    "    else:\n",
    "        return 0\n",
    "\n",
    "# equation 12\n",
    "def calculateFinalMatchingScore(inputMinutiaeList, templateMinutiaeList):\n",
    "    sum = 0\n",
    "    for i in range(0, len(inputMinutiaeList)):\n",
    "        sum += calculateMatchingCertainty(inputMinutiaeList[i], templateMinutiaeList[findBestMatchOne(templateMinutiaeList, inputMinutiaeList[i])])\n",
    "    return 1 * sum/len(inputMinutiaeList)\n",
    "\n",
    "def global_m(base, compare):\n",
    "  # Load the fingerprint images\n",
    "  inputImg = cv2.imread(f\"./fingerprints/{compare}.tif\", 0)\n",
    "  templateImg = cv2.imread(f\"./fingerprints/{base}.tif\", 0)\n",
    "\n",
    "  # Enhance the images (may throw an exception for low dpi images)\n",
    "  enInputImg = fingerprint_enhancer.enhance_Fingerprint(inputImg)\n",
    "  enTemplateImg = fingerprint_enhancer.enhance_Fingerprint(templateImg)\n",
    "\n",
    "  # Extract features from the fingerprint images\n",
    "  inputFeaturesTerminations, inputFeaturesBifurcations = fingerprint_feature_extractor.extract_minutiae_features(enInputImg, spuriousMinutiaeThresh=20, invertImage=False, showResult=False, saveResult=True)\n",
    "  inputRes = cv2.imread(\"./result.png\", cv2.IMREAD_COLOR)\n",
    "  templateFeaturesTerminations, templateFeaturesBifurcations = fingerprint_feature_extractor.extract_minutiae_features(enTemplateImg, spuriousMinutiaeThresh=20, invertImage=False, showResult=False, saveResult=True)\n",
    "  tempinputRes = cv2.imread(\"./result.png\", cv2.IMREAD_COLOR)\n",
    "  \n",
    "  # Create a list of minutia features (x location, y location, orientation in degrees, type)\n",
    "  inputMinutiaeList = []\n",
    "  templateMinutiaeList = []\n",
    "  for term in inputFeaturesTerminations:\n",
    "      inputMinutiaeList.append(Minutia(term.locX, term.locY, math.radians(term.Orientation[0]), 0))\n",
    "  for bif in inputFeaturesBifurcations:\n",
    "      inputMinutiaeList.append(Minutia(bif.locX, bif.locY, math.radians(bif.Orientation[0]), 1))\n",
    "\n",
    "  for term in templateFeaturesTerminations:\n",
    "      templateMinutiaeList.append(Minutia(term.locX, term.locY, math.radians(term.Orientation[0]), 0))\n",
    "  for bif in templateFeaturesBifurcations:\n",
    "      templateMinutiaeList.append(Minutia(bif.locX, bif.locY, math.radians(bif.Orientation[0]), 1))\n",
    "\n",
    "\n",
    "  # Find two nearest neighbors for each minutia\n",
    "  findMinutiaNeighbors(inputMinutiaeList)\n",
    "  findMinutiaNeighbors(templateMinutiaeList)\n",
    "\n",
    "  # Compute the feature vector for each minutia\n",
    "  ComputeFeatureVectors(inputMinutiaeList)\n",
    "  ComputeFeatureVectors(templateMinutiaeList)\n",
    "\n",
    "\n",
    "  bestMatch = findBestMatch(inputMinutiaeList, templateMinutiaeList)\n",
    "\n",
    "  # print(\"Best Match Details:\")\n",
    "  # print(\"Input Minutia:\", bestMatch[\"inputMinutia\"].__dict__)\n",
    "  # print(\"Template Minutia:\", bestMatch[\"templateMinutia\"].__dict__)\n",
    "  # print(\"Similarity:\", bestMatch[\"similarity\"])\n",
    "\n",
    "  # Calculate featureVector relative to the minutiae from bestMatch\n",
    "  ComputeGlobalFeatureVectors(inputMinutiaeList, bestMatch[\"inputMinutia\"])\n",
    "  ComputeGlobalFeatureVectors(templateMinutiaeList, bestMatch[\"templateMinutia\"])\n",
    "  # print(templateMinutiaeList)\n",
    "  result = calculateFinalMatchingScore(inputMinutiaeList, templateMinutiaeList)\n",
    "  return str(result)\n",
    "\n",
    "  # Print the inputMinutiaeList details\n",
    "  # print(\"\\nInput Minutiae List:\")\n",
    "  #for minutia in inputMinutiaeList:\n",
    "  #    print(minutia.__dict__)\n",
    "\n",
    "  # Print the templateMinutiaeList details\n",
    "  # print(\"\\nTemplate Minutiae List:\")\n",
    "  #for minutia in templateMinutiaeList:\n",
    "    #  for minutia in inputMinutiaeList:\n",
    "  #        minutia_dict = minutia.__dict__.copy()  # Kopia słownika, aby nie modyfikować oryginalnego\n",
    "          #   minutia_dict['locX'] = round(minutia_dict['locX'], 2)\n",
    "          #   minutia_dict['locY'] = round(minutia_dict['locY'], 2)\n",
    "      #   minutia_dict['orientation'] = round(minutia_dict['orientation'], 2)\n",
    "          #print(minutia_dict)\n",
    "      #print(minutia.__dict__)\n",
    "\n",
    "  # cv2_imshow(inputImg)\n",
    "  # cv2_imshow(inputRes)\n",
    "  # cv2_imshow(templateImg)\n",
    "  # cv2_imshow(templateRes)"
   ],
   "metadata": {
    "id": "U5cmXpI6R8Kf",
    "ExecuteTime": {
     "end_time": "2024-01-21T20:02:01.080045100Z",
     "start_time": "2024-01-21T20:02:01.069045400Z"
    }
   },
   "execution_count": 14,
   "outputs": []
  },
  {
   "cell_type": "code",
   "source": [
    "import csv\n",
    "\n",
    "f = open('csv_data.csv', 'w+')\n",
    "writer = csv.writer(f, delimiter=';')\n",
    "\n",
    "for k in range(5):\n",
    "  print(f\"TABLE {k+1}\")\n",
    "  writer.writerow([f\"TABLE {k+1}\"] * 10)\n",
    "  for i in range(5):\n",
    "    print(f\"ROW {i+1}\")\n",
    "    base = f\"finger_{i+1}/10{i+1}_1\"\n",
    "    row = []\n",
    "\n",
    "    for j in range(5):\n",
    "      compare = f\"finger_{j+1}/10{j+1}_{k+1}\"\n",
    "      row.append(local_m(base, compare))\n",
    "      row.append(global_m(base, compare))\n",
    "\n",
    "    writer.writerow(row)\n",
    "\n",
    "f.close()"
   ],
   "metadata": {
    "colab": {
     "base_uri": "https://localhost:8080/"
    },
    "id": "mhJrm4XRzphe",
    "outputId": "75e3b0fb-5e1c-4622-c30a-ba8a9719f60d",
    "ExecuteTime": {
     "end_time": "2024-01-21T20:02:34.410778100Z",
     "start_time": "2024-01-21T20:02:01.508045900Z"
    }
   },
   "execution_count": 15,
   "outputs": [
    {
     "name": "stdout",
     "output_type": "stream",
     "text": [
      "TABLE 1\n",
      "ROW 1\n",
      "Best Match Details:\n",
      "Input Minutia: {'locX': 18, 'locY': 203, 'orientation': -2.677945044588987, 'minutiaType': 0, 'closestNeighbor': 2, 'secondClosestNeighbor': 6, 'featureVector': {'d_ki': 43.01162633521314, 'd_kj': 65.29931086925804, 'theta_ki': 2.984990776607778, 'theta_kj': 1.9792852198675237, 'phi_ki': -2.677945044588987, 'phi_kj': 0.46364760900080615, 't_k': 0, 't_i': 0, 't_j': 0}, 'globalFeatureVector': None}\n",
      "Template Minutia: {'locX': 18, 'locY': 203, 'orientation': -2.677945044588987, 'minutiaType': 0, 'closestNeighbor': 2, 'secondClosestNeighbor': 6, 'featureVector': {'d_ki': 43.01162633521314, 'd_kj': 65.29931086925804, 'theta_ki': 2.984990776607778, 'theta_kj': 1.9792852198675237, 'phi_ki': -2.677945044588987, 'phi_kj': 0.46364760900080615, 't_k': 0, 't_i': 0, 't_j': 0}, 'globalFeatureVector': None}\n",
      "Similarity: 1.0\n",
      "Best Match Details:\n",
      "Input Minutia: {'locX': 235, 'locY': 119, 'orientation': 0.4636476090008061, 'minutiaType': 0, 'closestNeighbor': 33, 'secondClosestNeighbor': 11, 'featureVector': {'d_ki': 15.652475842498529, 'd_kj': 20.0, 'theta_ki': -0.9272952180016122, 'theta_kj': -1.1071487177940904, 'phi_ki': -0.3217505543966422, 'phi_kj': 0.4636476090008061, 't_k': 0, 't_i': 1, 't_j': 0}, 'globalFeatureVector': None}\n",
      "Template Minutia: {'locX': 66, 'locY': 32, 'orientation': 0.7853981633974483, 'minutiaType': 0, 'closestNeighbor': 1, 'secondClosestNeighbor': 7, 'featureVector': {'d_ki': 20.223748416156685, 'd_kj': 22.135943621178654, 'theta_ki': -0.9342881110069455, 'theta_kj': -1.1071487177940904, 'phi_ki': 0.0, 'phi_kj': 0.0, 't_k': 0, 't_i': 0, 't_j': 0}, 'globalFeatureVector': None}\n",
      "Similarity: 0.7900187224341849\n",
      "Best Match Details:\n",
      "Input Minutia: {'locX': 182, 'locY': 24, 'orientation': 1.5707963267948966, 'minutiaType': 1, 'closestNeighbor': 6, 'secondClosestNeighbor': 10, 'featureVector': {'d_ki': 35.0, 'd_kj': 36.76955262170047, 'theta_ki': -2.214297435588181, 'theta_kj': -1.1801892830972098, 'phi_ki': 3.141592653589793, 'phi_kj': 3.141592653589793, 't_k': 1, 't_i': 0, 't_j': 0}, 'globalFeatureVector': None}\n",
      "Template Minutia: {'locX': 60, 'locY': 258, 'orientation': 2.677945044588987, 'minutiaType': 0, 'closestNeighbor': 8, 'secondClosestNeighbor': 2, 'featureVector': {'d_ki': 29.410882339705484, 'd_kj': 30.805843601498726, 'theta_ki': -2.988943325194528, 'theta_kj': -1.3363806510710856, 'phi_ki': 2.819842099193151, 'phi_kj': 2.677945044588987, 't_k': 0, 't_i': 0, 't_j': 0}, 'globalFeatureVector': None}\n",
      "Similarity: 0.6513767256825886\n",
      "Best Match Details:\n",
      "Input Minutia: {'locX': 102, 'locY': 207, 'orientation': 1.5707963267948966, 'minutiaType': 1, 'closestNeighbor': 3, 'secondClosestNeighbor': 23, 'featureVector': {'d_ki': 22.135943621178654, 'd_kj': 31.064449134018133, 'theta_ki': -1.2490457723982544, 'theta_kj': -0.5790742693677308, 'phi_ki': -0.46364760900080615, 'phi_kj': 0.0, 't_k': 1, 't_i': 0, 't_j': 1}, 'globalFeatureVector': None}\n",
      "Template Minutia: {'locX': 87, 'locY': 25, 'orientation': 0.7853981633974483, 'minutiaType': 0, 'closestNeighbor': 5, 'secondClosestNeighbor': 1, 'featureVector': {'d_ki': 22.135943621178654, 'd_kj': 42.20189569201838, 'theta_ki': -1.1071487177940904, 'theta_kj': -1.0246297633611088, 'phi_ki': 0.0, 'phi_kj': 0.0, 't_k': 0, 't_i': 0, 't_j': 0}, 'globalFeatureVector': None}\n",
      "Similarity: 0.6956207170093275\n",
      "Best Match Details:\n",
      "Input Minutia: {'locX': 209, 'locY': 172, 'orientation': 2.356194490192345, 'minutiaType': 0, 'closestNeighbor': 8, 'secondClosestNeighbor': 17, 'featureVector': {'d_ki': 21.213203435596427, 'd_kj': 37.33630940518894, 'theta_ki': -0.9272952180016121, 'theta_kj': -0.9197196053504166, 'phi_ki': 0.0, 'phi_kj': 0.7853981633974483, 't_k': 0, 't_i': 0, 't_j': 1}, 'globalFeatureVector': None}\n",
      "Template Minutia: {'locX': 46, 'locY': 35, 'orientation': 0.7853981633974483, 'minutiaType': 0, 'closestNeighbor': 5, 'secondClosestNeighbor': 7, 'featureVector': {'d_ki': 20.223748416156685, 'd_kj': 42.20189569201838, 'theta_ki': -0.9342881110069455, 'theta_kj': -1.0246297633611088, 'phi_ki': 0.0, 'phi_kj': 0.0, 't_k': 0, 't_i': 0, 't_j': 0}, 'globalFeatureVector': None}\n",
      "Similarity: 0.7258451122148039\n"
     ]
    }
   ]
  }
 ]
}
